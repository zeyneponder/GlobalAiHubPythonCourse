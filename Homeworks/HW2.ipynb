{
 "cells": [
  {
   "cell_type": "code",
   "execution_count": 19,
   "metadata": {},
   "outputs": [
    {
     "name": "stdout",
     "output_type": "stream",
     "text": [
      "name  :  person1\n",
      "age  :  21\n",
      "education  :  High school diploma\n",
      "\n",
      "\n",
      "name  :  person2\n",
      "age  :  22\n",
      "education  :  Bachelor's degree\n",
      "\n",
      "\n",
      "name  :  person3\n",
      "age  :  23\n",
      "education  :  Master's degree\n",
      "\n",
      "\n",
      "name  :  person4\n",
      "age  :  24\n",
      "education  :  Doctoral degree\n",
      "\n",
      "\n",
      "name  :  person4\n",
      "age  :  24\n",
      "education  :  Doctoral degree\n",
      "\n",
      "\n"
     ]
    }
   ],
   "source": [
    "CV1={\"name\":\"person1\",\n",
    "    \"age\":21,\n",
    "    \"education\":\"High school diploma\"}\n",
    "CV2={\"name\":\"person2\",\n",
    "    \"age\":22,\n",
    "    \"education\":\"Bachelor's degree\"}\n",
    "CV3={\"name\":\"person3\",\n",
    "    \"age\":23,\n",
    "    \"education\":\"Master's degree\"}\n",
    "CV4={\"name\":\"person4\",\n",
    "    \"age\":24,\n",
    "    \"education\":\"Doctoral degree\"}\n",
    "CV5={\"name\":\"person5\",\n",
    "    \"age\":25,\n",
    "    \"education\":\"High school diploma\"}\n",
    "\n",
    "list_of_CVs=[CV1,CV2,CV3,CV4,CV4]\n",
    "for i in list_of_CVs:\n",
    "    for key in i:\n",
    "     print(key, \" : \",i[key])\n",
    "    print(\"\\n\")"
   ]
  }
 ],
 "metadata": {
  "kernelspec": {
   "display_name": "Python 3",
   "language": "python",
   "name": "python3"
  },
  "language_info": {
   "codemirror_mode": {
    "name": "ipython",
    "version": 3
   },
   "file_extension": ".py",
   "mimetype": "text/x-python",
   "name": "python",
   "nbconvert_exporter": "python",
   "pygments_lexer": "ipython3",
   "version": "3.8.3"
  }
 },
 "nbformat": 4,
 "nbformat_minor": 4
}
