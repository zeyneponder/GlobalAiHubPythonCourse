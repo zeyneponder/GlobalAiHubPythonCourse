{
 "cells": [
  {
   "cell_type": "code",
   "execution_count": 23,
   "metadata": {},
   "outputs": [
    {
     "name": "stdout",
     "output_type": "stream",
     "text": [
      "enter midterm grade:10\n",
      "enter project grade:10\n",
      "enter final grade:10\n",
      "enter midterm grade:20\n",
      "enter project grade:20\n",
      "enter final grade:20\n",
      "enter midterm grade:30\n",
      "enter project grade:30\n",
      "enter final grade:30\n",
      "enter midterm grade:40\n",
      "enter project grade:40\n",
      "enter final grade:40\n",
      "enter midterm grade:50\n",
      "enter project grade:50\n",
      "enter final grade:50\n"
     ]
    }
   ],
   "source": [
    "dic={}\n",
    "passing_grades=[]\n",
    "for i in range(5):\n",
    "    dic[\"Student\"+str(i)]={}\n",
    "    dic[\"Student\"+str(i)][\"midterm\"]=float(input(\"enter midterm grade:\"))\n",
    "    dic[\"Student\"+str(i)][\"project\"]=float(input(\"enter project grade:\"))\n",
    "    dic[\"Student\"+str(i)][\"final\"]=float(input(\"enter final grade:\"))\n",
    "    dic[\"Student\"+str(i)][\"passing grade\"]= (dic[\"Student\"+str(i)][\"midterm\"] * (0.3)) + (dic[\"Student\"+str(i)][\"project\"] * (0.3)) + (dic[\"Student\"+str(i)][\"final\"] * (0.4))\n",
    "    passing_grades.append(dic[\"Student\"+str(i)][\"passing grade\"]) ### adding passing grades into the list\n"
   ]
  },
  {
   "cell_type": "code",
   "execution_count": 27,
   "metadata": {},
   "outputs": [
    {
     "name": "stdout",
     "output_type": "stream",
     "text": [
      "{'Student0': {'midterm': 10.0, 'project': 10.0, 'final': 10.0, 'passing grade': 10.0}, 'Student1': {'midterm': 20.0, 'project': 20.0, 'final': 20.0, 'passing grade': 20.0}, 'Student2': {'midterm': 30.0, 'project': 30.0, 'final': 30.0, 'passing grade': 30.0}, 'Student3': {'midterm': 40.0, 'project': 40.0, 'final': 40.0, 'passing grade': 40.0}, 'Student4': {'midterm': 50.0, 'project': 50.0, 'final': 50.0, 'passing grade': 50.0}} \n",
      "\n",
      "[50.0, 40.0, 30.0, 20.0, 10.0]\n"
     ]
    }
   ],
   "source": [
    "print(dic,\"\\n\")\n",
    "\n",
    "passing_grades.sort(reverse=True)\n",
    "print(passing_grades)"
   ]
  },
  {
   "cell_type": "code",
   "execution_count": null,
   "metadata": {},
   "outputs": [],
   "source": []
  }
 ],
 "metadata": {
  "kernelspec": {
   "display_name": "Python 3",
   "language": "python",
   "name": "python3"
  },
  "language_info": {
   "codemirror_mode": {
    "name": "ipython",
    "version": 3
   },
   "file_extension": ".py",
   "mimetype": "text/x-python",
   "name": "python",
   "nbconvert_exporter": "python",
   "pygments_lexer": "ipython3",
   "version": "3.8.3"
  }
 },
 "nbformat": 4,
 "nbformat_minor": 4
}
